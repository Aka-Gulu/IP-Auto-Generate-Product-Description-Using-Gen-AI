{
 "cells": [
  {
   "cell_type": "code",
   "execution_count": 4,
   "id": "effe4076",
   "metadata": {
    "scrolled": true
   },
   "outputs": [
    {
     "name": "stdout",
     "output_type": "stream",
     "text": [
      "Collecting uform\n",
      "  Obtaining dependency information for uform from https://files.pythonhosted.org/packages/83/83/8c4ea07a3fe4e776482a79120167bd0711fe00f8c1e118d1601025e58159/uform-1.1.1-py3-none-any.whl.metadata\n",
      "  Using cached uform-1.1.1-py3-none-any.whl.metadata (19 kB)\n",
      "Requirement already satisfied: huggingface-hub>=0.16.4 in c:\\users\\jensen r\\anaconda3\\lib\\site-packages (from uform) (0.20.3)\n",
      "Requirement already satisfied: tokenizers>=0.13.3 in c:\\users\\jensen r\\anaconda3\\lib\\site-packages (from uform) (0.15.2)\n",
      "Requirement already satisfied: torch>=1.13.1 in c:\\users\\jensen r\\anaconda3\\lib\\site-packages (from uform) (2.2.1)\n",
      "Collecting torchvision (from uform)\n",
      "  Obtaining dependency information for torchvision from https://files.pythonhosted.org/packages/e7/45/419aa0b37254f1fd62b45bb63836066c5eb81e37d70940e0491e95167eed/torchvision-0.17.1-cp311-cp311-win_amd64.whl.metadata\n",
      "  Using cached torchvision-0.17.1-cp311-cp311-win_amd64.whl.metadata (6.6 kB)\n",
      "Requirement already satisfied: transformers>=4.36.2 in c:\\users\\jensen r\\anaconda3\\lib\\site-packages (from uform) (4.37.2)\n",
      "Requirement already satisfied: filelock in c:\\users\\jensen r\\anaconda3\\lib\\site-packages (from huggingface-hub>=0.16.4->uform) (3.9.0)\n",
      "Requirement already satisfied: fsspec>=2023.5.0 in c:\\users\\jensen r\\anaconda3\\lib\\site-packages (from huggingface-hub>=0.16.4->uform) (2024.2.0)\n",
      "Requirement already satisfied: requests in c:\\users\\jensen r\\anaconda3\\lib\\site-packages (from huggingface-hub>=0.16.4->uform) (2.31.0)\n",
      "Requirement already satisfied: tqdm>=4.42.1 in c:\\users\\jensen r\\anaconda3\\lib\\site-packages (from huggingface-hub>=0.16.4->uform) (4.65.0)\n",
      "Requirement already satisfied: pyyaml>=5.1 in c:\\users\\jensen r\\anaconda3\\lib\\site-packages (from huggingface-hub>=0.16.4->uform) (6.0)\n",
      "Requirement already satisfied: typing-extensions>=3.7.4.3 in c:\\users\\jensen r\\anaconda3\\lib\\site-packages (from huggingface-hub>=0.16.4->uform) (4.9.0)\n",
      "Requirement already satisfied: packaging>=20.9 in c:\\users\\jensen r\\anaconda3\\lib\\site-packages (from huggingface-hub>=0.16.4->uform) (23.0)\n",
      "Requirement already satisfied: sympy in c:\\users\\jensen r\\anaconda3\\lib\\site-packages (from torch>=1.13.1->uform) (1.11.1)\n",
      "Requirement already satisfied: networkx in c:\\users\\jensen r\\anaconda3\\lib\\site-packages (from torch>=1.13.1->uform) (3.1)\n",
      "Requirement already satisfied: jinja2 in c:\\users\\jensen r\\anaconda3\\lib\\site-packages (from torch>=1.13.1->uform) (3.1.2)\n",
      "Requirement already satisfied: numpy>=1.17 in c:\\users\\jensen r\\anaconda3\\lib\\site-packages (from transformers>=4.36.2->uform) (1.24.3)\n",
      "Requirement already satisfied: regex!=2019.12.17 in c:\\users\\jensen r\\anaconda3\\lib\\site-packages (from transformers>=4.36.2->uform) (2022.7.9)\n",
      "Requirement already satisfied: safetensors>=0.4.1 in c:\\users\\jensen r\\anaconda3\\lib\\site-packages (from transformers>=4.36.2->uform) (0.4.2)\n",
      "Requirement already satisfied: pillow!=8.3.*,>=5.3.0 in c:\\users\\jensen r\\anaconda3\\lib\\site-packages (from torchvision->uform) (9.4.0)\n",
      "Requirement already satisfied: colorama in c:\\users\\jensen r\\anaconda3\\lib\\site-packages (from tqdm>=4.42.1->huggingface-hub>=0.16.4->uform) (0.4.6)\n",
      "Requirement already satisfied: MarkupSafe>=2.0 in c:\\users\\jensen r\\anaconda3\\lib\\site-packages (from jinja2->torch>=1.13.1->uform) (2.1.1)\n",
      "Requirement already satisfied: charset-normalizer<4,>=2 in c:\\users\\jensen r\\anaconda3\\lib\\site-packages (from requests->huggingface-hub>=0.16.4->uform) (2.0.4)\n",
      "Requirement already satisfied: idna<4,>=2.5 in c:\\users\\jensen r\\anaconda3\\lib\\site-packages (from requests->huggingface-hub>=0.16.4->uform) (3.4)\n",
      "Requirement already satisfied: urllib3<3,>=1.21.1 in c:\\users\\jensen r\\anaconda3\\lib\\site-packages (from requests->huggingface-hub>=0.16.4->uform) (1.26.16)\n",
      "Requirement already satisfied: certifi>=2017.4.17 in c:\\users\\jensen r\\anaconda3\\lib\\site-packages (from requests->huggingface-hub>=0.16.4->uform) (2023.7.22)\n",
      "Requirement already satisfied: mpmath>=0.19 in c:\\users\\jensen r\\anaconda3\\lib\\site-packages (from sympy->torch>=1.13.1->uform) (1.3.0)\n",
      "Using cached uform-1.1.1-py3-none-any.whl (22 kB)\n",
      "Using cached torchvision-0.17.1-cp311-cp311-win_amd64.whl (1.2 MB)\n",
      "Installing collected packages: torchvision, uform\n",
      "Successfully installed torchvision-0.17.1 uform-1.1.1\n",
      "Note: you may need to restart the kernel to use updated packages.\n"
     ]
    }
   ],
   "source": [
    "#pip install uform"
   ]
  },
  {
   "cell_type": "code",
   "execution_count": 1,
   "id": "50b69c10",
   "metadata": {},
   "outputs": [
    {
     "data": {
      "application/vnd.jupyter.widget-view+json": {
       "model_id": "1ca25a1a12d04a9ebe973d344b95eb81",
       "version_major": 2,
       "version_minor": 0
      },
      "text/plain": [
       "config.json:   0%|          | 0.00/632 [00:00<?, ?B/s]"
      ]
     },
     "metadata": {},
     "output_type": "display_data"
    },
    {
     "name": "stderr",
     "output_type": "stream",
     "text": [
      "C:\\Users\\Jensen R\\anaconda3\\Lib\\site-packages\\huggingface_hub\\file_download.py:149: UserWarning: `huggingface_hub` cache-system uses symlinks by default to efficiently store duplicated files but your machine does not support them in C:\\Users\\Jensen R\\.cache\\huggingface\\hub\\models--princeton-nlp--Sheared-LLaMA-1.3B. Caching files will still work but in a degraded version that might require more space on your disk. This warning can be disabled by setting the `HF_HUB_DISABLE_SYMLINKS_WARNING` environment variable. For more details, see https://huggingface.co/docs/huggingface_hub/how-to-cache#limitations.\n",
      "To support symlinks on Windows, you either need to activate Developer Mode or to run Python as an administrator. In order to see activate developer mode, see this article: https://docs.microsoft.com/en-us/windows/apps/get-started/enable-your-device-for-development\n",
      "  warnings.warn(message)\n"
     ]
    },
    {
     "data": {
      "application/vnd.jupyter.widget-view+json": {
       "model_id": "0edd99d5a3bf4123b3edf945d91263a0",
       "version_major": 2,
       "version_minor": 0
      },
      "text/plain": [
       "Loading checkpoint shards:   0%|          | 0/2 [00:00<?, ?it/s]"
      ]
     },
     "metadata": {},
     "output_type": "display_data"
    },
    {
     "name": "stderr",
     "output_type": "stream",
     "text": [
      "Special tokens have been added in the vocabulary, make sure the associated word embeddings are fine-tuned or trained.\n",
      "Processing images:  44%|███████████████████████████▌                                   | 35/80 [10:02<11:53, 15.85s/it]C:\\Users\\Jensen R\\anaconda3\\Lib\\site-packages\\PIL\\Image.py:996: UserWarning: Palette images with Transparency expressed in bytes should be converted to RGBA images\n",
      "  warnings.warn(\n",
      "Processing images: 100%|███████████████████████████████████████████████████████████████| 80/80 [24:53<00:00, 18.67s/it]\n"
     ]
    }
   ],
   "source": [
    "from uform.gen_model import VLMForCausalLM, VLMProcessor\n",
    "import requests\n",
    "from PIL import Image\n",
    "import pandas as pd\n",
    "from tqdm import tqdm\n",
    "import torch\n",
    "\n",
    "# Initialize the model and processor\n",
    "model = VLMForCausalLM.from_pretrained(\"unum-cloud/uform-gen\")\n",
    "processor = VLMProcessor.from_pretrained(\"unum-cloud/uform-gen\")\n",
    "\n",
    "# Read the CSV file\n",
    "csv_file = 'sampled_products_10_each_img_front.csv'  # Adjust to your file path\n",
    "df = pd.read_csv(csv_file)\n",
    "\n",
    "# Column name containing the URLs\n",
    "url_column = 'ItemDocumentValue'\n",
    "\n",
    "# List to store generated captions\n",
    "captions = []\n",
    "\n",
    "# Define your prompt\n",
    "prompt = \"[cap] Generate a thorough product description that appeals to customers.\"\n",
    "\n",
    "# Process each image URL with a progress bar\n",
    "for url in tqdm(df[url_column], desc=\"Processing images\"):\n",
    "    try:\n",
    "        # Load and process the image\n",
    "        headers = {'User-Agent': 'Mozilla/5.0 (Windows NT 10.0; Win64; x64) AppleWebKit/537.36 (KHTML, like Gecko) Chrome/58.0.3029.110 Safari/537.3'}\n",
    "        response = requests.get(url, headers=headers, stream=True)\n",
    "        response.raise_for_status()\n",
    "        image = Image.open(response.raw)\n",
    "\n",
    "        # Prepare inputs\n",
    "        inputs = processor(texts=[prompt], images=[image], return_tensors=\"pt\")\n",
    "\n",
    "        # Generate output\n",
    "        with torch.inference_mode():\n",
    "            output = model.generate(\n",
    "                **inputs,\n",
    "                do_sample=False,\n",
    "                use_cache=True,\n",
    "                max_new_tokens=128,\n",
    "                eos_token_id=32001,\n",
    "                pad_token_id=processor.tokenizer.pad_token_id\n",
    "            )\n",
    "\n",
    "        # Decode the text\n",
    "        prompt_len = inputs[\"input_ids\"].shape[1]\n",
    "        decoded_text = processor.batch_decode(output[:, prompt_len:])[0]\n",
    "\n",
    "        # Append the caption to the list\n",
    "        captions.append(decoded_text)\n",
    "\n",
    "    except Exception as e:\n",
    "        # Handle any exceptions\n",
    "        captions.append(f\"Error processing image: {e}\")\n",
    "\n",
    "# Create a new DataFrame with only the desired columns and captions\n",
    "output_df = pd.DataFrame({\n",
    "    'ItemSku': df['ItemSku'],\n",
    "    'ItemDocumentValue': df['ItemDocumentValue'],\n",
    "    'generated_captions': captions\n",
    "})\n",
    "\n",
    "# Save the new DataFrame to a CSV file\n",
    "output_df.to_csv('Uform-output_captions80.csv', index=False)"
   ]
  },
  {
   "cell_type": "code",
   "execution_count": null,
   "id": "72cd9e84",
   "metadata": {},
   "outputs": [],
   "source": []
  },
  {
   "cell_type": "code",
   "execution_count": null,
   "id": "aa36a5c0",
   "metadata": {},
   "outputs": [],
   "source": []
  },
  {
   "cell_type": "code",
   "execution_count": null,
   "id": "13552873",
   "metadata": {},
   "outputs": [],
   "source": []
  },
  {
   "cell_type": "code",
   "execution_count": null,
   "id": "256bbe03",
   "metadata": {},
   "outputs": [],
   "source": []
  },
  {
   "cell_type": "code",
   "execution_count": null,
   "id": "345fcda2",
   "metadata": {},
   "outputs": [],
   "source": []
  },
  {
   "cell_type": "code",
   "execution_count": null,
   "id": "3ce0f25b",
   "metadata": {},
   "outputs": [],
   "source": []
  },
  {
   "cell_type": "code",
   "execution_count": null,
   "id": "1c8e11a0",
   "metadata": {},
   "outputs": [],
   "source": []
  },
  {
   "cell_type": "code",
   "execution_count": null,
   "id": "85d7aae5",
   "metadata": {},
   "outputs": [],
   "source": []
  },
  {
   "cell_type": "code",
   "execution_count": null,
   "id": "6dcf4b0b",
   "metadata": {},
   "outputs": [],
   "source": []
  },
  {
   "cell_type": "code",
   "execution_count": null,
   "id": "a9cfb10f",
   "metadata": {},
   "outputs": [],
   "source": []
  },
  {
   "cell_type": "code",
   "execution_count": null,
   "id": "bc1657cc",
   "metadata": {},
   "outputs": [],
   "source": []
  },
  {
   "cell_type": "code",
   "execution_count": null,
   "id": "3a446a19",
   "metadata": {},
   "outputs": [],
   "source": []
  },
  {
   "cell_type": "code",
   "execution_count": null,
   "id": "e5e47f28",
   "metadata": {},
   "outputs": [],
   "source": []
  }
 ],
 "metadata": {
  "kernelspec": {
   "display_name": "Python 3 (ipykernel)",
   "language": "python",
   "name": "python3"
  },
  "language_info": {
   "codemirror_mode": {
    "name": "ipython",
    "version": 3
   },
   "file_extension": ".py",
   "mimetype": "text/x-python",
   "name": "python",
   "nbconvert_exporter": "python",
   "pygments_lexer": "ipython3",
   "version": "3.11.4"
  }
 },
 "nbformat": 4,
 "nbformat_minor": 5
}
