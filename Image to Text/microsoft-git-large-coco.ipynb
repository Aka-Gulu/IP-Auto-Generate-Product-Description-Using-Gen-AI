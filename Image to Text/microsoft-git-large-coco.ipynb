{
 "cells": [
  {
   "cell_type": "code",
   "execution_count": 2,
   "id": "0b152750",
   "metadata": {},
   "outputs": [
    {
     "name": "stderr",
     "output_type": "stream",
     "text": [
      "Processing images:  88%|███████████████████████████████████████████████████████▏       | 35/40 [01:13<00:09,  1.95s/it]C:\\Users\\Jensen R\\anaconda3\\Lib\\site-packages\\PIL\\Image.py:996: UserWarning: Palette images with Transparency expressed in bytes should be converted to RGBA images\n",
      "  warnings.warn(\n",
      "Processing images: 100%|███████████████████████████████████████████████████████████████| 40/40 [01:24<00:00,  2.11s/it]\n"
     ]
    }
   ],
   "source": [
    "from transformers import AutoProcessor, AutoModelForCausalLM\n",
    "import requests\n",
    "from PIL import Image\n",
    "import pandas as pd\n",
    "from tqdm import tqdm\n",
    "\n",
    "# Load the processor and model\n",
    "processor = AutoProcessor.from_pretrained(\"microsoft/git-base-coco\")\n",
    "model = AutoModelForCausalLM.from_pretrained(\"microsoft/git-base-coco\")\n",
    "\n",
    "# Read the CSV file\n",
    "csv_file = 'sampled_products_5_each_img_front.csv'  # Adjust to your file path\n",
    "df = pd.read_csv(csv_file)\n",
    "\n",
    "# Column name containing the URLs\n",
    "url_column = 'ItemDocumentValue'\n",
    "\n",
    "# List to store generated captions\n",
    "captions = []\n",
    "\n",
    "# Process each image URL with a progress bar\n",
    "for url in tqdm(df[url_column], desc=\"Processing images\"):\n",
    "    try:\n",
    "        # Load and process the image\n",
    "        headers = {'User-Agent': 'Mozilla/5.0 (Windows NT 10.0; Win64; x64) AppleWebKit/537.36 (KHTML, like Gecko) Chrome/58.0.3029.110 Safari/537.3'}\n",
    "        response = requests.get(url, headers=headers, stream=True)\n",
    "        response.raise_for_status()  # Ensure the request was successful\n",
    "        image = Image.open(response.raw)\n",
    "        pixel_values = processor(images=image, return_tensors=\"pt\").pixel_values\n",
    "\n",
    "        # Generate caption\n",
    "        generated_ids = model.generate(pixel_values=pixel_values, max_length=50)\n",
    "        generated_caption = processor.batch_decode(generated_ids, skip_special_tokens=True)[0]\n",
    "\n",
    "        # Append the caption to the list\n",
    "        captions.append(generated_caption)\n",
    "    except Exception as e:\n",
    "        # Handle any exceptions\n",
    "        captions.append(f\"Error processing image: {e}\")\n",
    "\n",
    "# Create a new DataFrame with only the desired columns and captions\n",
    "output_df = pd.DataFrame({\n",
    "    'ItemSku': df['ItemSku'],\n",
    "    'ItemDocumentValue': df['ItemDocumentValue'],\n",
    "    'generated_captions': captions\n",
    "})\n",
    "\n",
    "# Save the new DataFrame to a CSV file\n",
    "output_df.to_csv('MS-git_coco_output_captions.csv', index=False)"
   ]
  }
 ],
 "metadata": {
  "kernelspec": {
   "display_name": "Python 3 (ipykernel)",
   "language": "python",
   "name": "python3"
  },
  "language_info": {
   "codemirror_mode": {
    "name": "ipython",
    "version": 3
   },
   "file_extension": ".py",
   "mimetype": "text/x-python",
   "name": "python",
   "nbconvert_exporter": "python",
   "pygments_lexer": "ipython3",
   "version": "3.11.4"
  }
 },
 "nbformat": 4,
 "nbformat_minor": 5
}
