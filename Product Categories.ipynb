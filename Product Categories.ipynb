{
 "cells": [
  {
   "cell_type": "code",
   "execution_count": 1,
   "id": "4468483b",
   "metadata": {},
   "outputs": [],
   "source": [
    "import pandas as pd\n",
    "import numpy as np"
   ]
  },
  {
   "cell_type": "code",
   "execution_count": 2,
   "id": "a049f28e",
   "metadata": {},
   "outputs": [],
   "source": [
    "# The dataset with Product Category Info\n",
    "df_cat = pd.read_csv('D:/Purdue-MSBAIM/Module3/Industry Practicum/Data/Supplementary Data-selected/UPC_Data.csv')\n",
    "# The dataset we are going to use (with image input)\n",
    "df_image = pd.read_csv('D:/Purdue-MSBAIM/Module3/Industry Practicum/Data/UPCImages.csv')"
   ]
  },
  {
   "cell_type": "code",
   "execution_count": 4,
   "id": "fc7215bf",
   "metadata": {
    "scrolled": true
   },
   "outputs": [
    {
     "name": "stdout",
     "output_type": "stream",
     "text": [
      "<class 'pandas.core.frame.DataFrame'>\n",
      "RangeIndex: 808985 entries, 0 to 808984\n",
      "Data columns (total 18 columns):\n",
      " #   Column                Non-Null Count   Dtype \n",
      "---  ------                --------------   ----- \n",
      " 0   ItemSku               808985 non-null  int64 \n",
      " 1   UPCTypeName           808985 non-null  object\n",
      " 2   ItemPrimaryIndicator  808985 non-null  object\n",
      " 3   ProductStatusnote     808985 non-null  object\n",
      " 4   ProductName           808985 non-null  object\n",
      " 5   MarketingName         331279 non-null  object\n",
      " 6   MarketingDetails      330009 non-null  object\n",
      " 7   MarketingFeatures     323791 non-null  object\n",
      " 8   L6_Name               808985 non-null  object\n",
      " 9   L5_Name               808985 non-null  object\n",
      " 10  L4_Name               808985 non-null  object\n",
      " 11  L3_Name               808985 non-null  object\n",
      " 12  L2_Name               808985 non-null  object\n",
      " 13  L6_Code               808985 non-null  object\n",
      " 14  L5_Code               808985 non-null  object\n",
      " 15  L4_Code               808985 non-null  object\n",
      " 16  L3_Code               808985 non-null  object\n",
      " 17  L2_Code               808985 non-null  object\n",
      "dtypes: int64(1), object(17)\n",
      "memory usage: 111.1+ MB\n"
     ]
    }
   ],
   "source": [
    "df_cat.info()"
   ]
  },
  {
   "cell_type": "code",
   "execution_count": 4,
   "id": "a24c4855",
   "metadata": {
    "scrolled": true
   },
   "outputs": [
    {
     "name": "stdout",
     "output_type": "stream",
     "text": [
      "<class 'pandas.core.frame.DataFrame'>\n",
      "RangeIndex: 891704 entries, 0 to 891703\n",
      "Data columns (total 7 columns):\n",
      " #   Column                   Non-Null Count   Dtype \n",
      "---  ------                   --------------   ----- \n",
      " 0   UpdatedDate              891704 non-null  object\n",
      " 1   ItemSku                  891704 non-null  int64 \n",
      " 2   ItemDocumentNote         891704 non-null  object\n",
      " 3   ItemImageApprovalDate    891704 non-null  object\n",
      " 4   ItemImageExpirationDate  891704 non-null  object\n",
      " 5   ItemImageActiveDate      891704 non-null  object\n",
      " 6   ItemDocumentValue        336662 non-null  object\n",
      "dtypes: int64(1), object(6)\n",
      "memory usage: 47.6+ MB\n"
     ]
    }
   ],
   "source": [
    "df_image.info()"
   ]
  },
  {
   "cell_type": "code",
   "execution_count": 3,
   "id": "df7c462d",
   "metadata": {},
   "outputs": [
    {
     "data": {
      "text/plain": [
       "3872"
      ]
     },
     "execution_count": 3,
     "metadata": {},
     "output_type": "execute_result"
    }
   ],
   "source": [
    "# Left Join them based on ItemSku,so we keep everything in our image dataset.  And there are 3872 product with no category\n",
    "# we can ignore them, these indicate that there are some product in the image dataset that's not existed on the Category dataset\n",
    "df = df_image.merge(df_cat,on='ItemSku',how='left')\n",
    "df['L6_Name'].isnull().sum()"
   ]
  },
  {
   "cell_type": "code",
   "execution_count": 6,
   "id": "73a84700",
   "metadata": {},
   "outputs": [
    {
     "data": {
      "text/plain": [
       "11"
      ]
     },
     "execution_count": 6,
     "metadata": {},
     "output_type": "execute_result"
    }
   ],
   "source": [
    "# Based on L6, there are 11 different types of product(not considering the null value)\n",
    "L6 = df['L6_Name'].dropna().nunique()\n",
    "L6"
   ]
  },
  {
   "cell_type": "code",
   "execution_count": 5,
   "id": "587b596f",
   "metadata": {
    "scrolled": true
   },
   "outputs": [
    {
     "data": {
      "text/plain": [
       "HARDLINES AND HOME        0.270654\n",
       "HEALTH AND BEAUTY         0.264500\n",
       "GROCERY                   0.233509\n",
       "PETS AND CONSUMABLES      0.139401\n",
       "FRESH                     0.036249\n",
       "SOFTLINES                 0.035212\n",
       "GAS STATION               0.018408\n",
       "PRESCRIPTIONS             0.001454\n",
       "MISC.                     0.000585\n",
       "SUPPLIES AND PACKAGING    0.000018\n",
       "SYSTEM                    0.000009\n",
       "Name: L6_Name, dtype: float64"
      ]
     },
     "execution_count": 5,
     "metadata": {},
     "output_type": "execute_result"
    }
   ],
   "source": [
    "L6 = df['L6_Name'].dropna().value_counts(normalize=True)\n",
    "L6"
   ]
  },
  {
   "cell_type": "code",
   "execution_count": 8,
   "id": "18fea8b7",
   "metadata": {
    "scrolled": true
   },
   "outputs": [
    {
     "data": {
      "image/png": "[encoded data removed]",
      "text/plain": [
       "<Figure size 600x600 with 1 Axes>"
      ]
     },
     "metadata": {},
     "output_type": "display_data"
    }
   ],
   "source": [
    "import matplotlib.pyplot as plt\n",
    "import numpy as np\n",
    "import pandas as pd\n",
    "\n",
    "# Assuming 'df' is your DataFrame and you've calculated 'L6' as shown\n",
    "L6 = df['L6_Name'].dropna().value_counts(normalize=True).head(8)\n",
    "\n",
    "# Convert to DataFrame for easier plotting\n",
    "L6_df = pd.DataFrame({'Category': L6.index, 'Percentage': L6.values})\n",
    "\n",
    "# Set the color palette\n",
    "colors = plt.get_cmap('Set3')(np.linspace(0, 1, len(L6_df)))\n",
    "\n",
    "# More constrained random positions for each bubble\n",
    "np.random.seed(0)  # For reproducibility\n",
    "x = np.random.rand(len(L6_df)) * 0.6 + 0.2  # Random values between 0.2 and 0.8\n",
    "y = np.random.rand(len(L6_df)) * 0.6 + 0.2\n",
    "\n",
    "# Create the bubble plot\n",
    "plt.figure(figsize=(6, 6))\n",
    "scatter = plt.scatter(x, y, s=L6_df['Percentage']*2000, c=colors, alpha=0.6)  # Adjusted bubble size\n",
    "\n",
    "# Add labels\n",
    "for i, row in L6_df.iterrows():\n",
    "    plt.text(x[i], y[i], row['Category'], ha='center', va='center', fontsize=8)\n",
    "\n",
    "plt.axis('off')  # Turn off the axis\n",
    "plt.title('Product Categories', fontsize=12)\n",
    "\n",
    "# Show the plot\n",
    "plt.show()\n"
   ]
  },
  {
   "cell_type": "code",
   "execution_count": 9,
   "id": "893c77a2",
   "metadata": {
    "scrolled": true
   },
   "outputs": [
    {
     "name": "stderr",
     "output_type": "stream",
     "text": [
      "C:\\Users\\Jensen R\\AppData\\Local\\Temp\\ipykernel_10884\\1281704587.py:16: FutureWarning: In a future version of pandas all arguments of DataFrame.pivot will be keyword-only.\n",
      "  heatmap_data = L6_df.pivot(\"Dummy\", \"Category\", \"Percentage\")\n"
     ]
    },
    {
     "data": {
      "image/png": "[encoded data removed]",
      "text/plain": [
       "<Figure size 800x200 with 2 Axes>"
      ]
     },
     "metadata": {},
     "output_type": "display_data"
    }
   ],
   "source": [
    "import matplotlib.pyplot as plt\n",
    "import seaborn as sns\n",
    "import pandas as pd\n",
    "import numpy as np\n",
    "\n",
    "# Assuming 'df' is your DataFrame and you've calculated 'L6' as shown\n",
    "L6 = df['L6_Name'].dropna().value_counts(normalize=True).head(8)\n",
    "\n",
    "# Convert to DataFrame\n",
    "L6_df = pd.DataFrame({'Category': L6.index, 'Percentage': L6.values})\n",
    "\n",
    "# We'll create a dummy variable for the heatmap's y-axis\n",
    "L6_df['Dummy'] = 'Percentage'\n",
    "\n",
    "# Pivot the DataFrame to create a matrix-like structure\n",
    "heatmap_data = L6_df.pivot(\"Dummy\", \"Category\", \"Percentage\")\n",
    "\n",
    "# Create the heatmap\n",
    "plt.figure(figsize=(8, 2))  # Adjust the size as needed\n",
    "sns.heatmap(heatmap_data, cmap=\"YlGnBu\", annot=True, fmt=\".2%\")\n",
    "\n",
    "# Adjust y-axis label\n",
    "plt.yticks([])  # Hides the y-axis labels\n",
    "plt.title(\"Product Category Percentages\")\n",
    "plt.show()"
   ]
  },
  {
   "cell_type": "code",
   "execution_count": 10,
   "id": "31ef8e0c",
   "metadata": {},
   "outputs": [
    {
     "data": {
      "image/png": "[encoded data removed]",
      "text/plain": [
       "<Figure size 800x600 with 1 Axes>"
      ]
     },
     "metadata": {},
     "output_type": "display_data"
    }
   ],
   "source": [
    "import matplotlib.pyplot as plt\n",
    "import squarify\n",
    "import pandas as pd\n",
    "\n",
    "# Assuming 'df' is your DataFrame and you've calculated 'L6' as shown\n",
    "L6 = df['L6_Name'].dropna().value_counts(normalize=True).head(8)\n",
    "\n",
    "# Convert to DataFrame\n",
    "L6_df = pd.DataFrame({'Category': L6.index, 'Percentage': L6.values})\n",
    "\n",
    "# Normalize the sizes to fit the area (1x1 square)\n",
    "sizes = L6_df['Percentage'].values * 100  # Convert percentages to values suitable for squarify\n",
    "\n",
    "# Define a color palette\n",
    "colors = plt.cm.Set3(np.linspace(0, 1, len(L6_df)))\n",
    "\n",
    "# Create the Treemap\n",
    "plt.figure(figsize=(8, 6))\n",
    "squarify.plot(sizes=sizes, label=L6_df['Category'], color=colors, alpha=0.7)\n",
    "\n",
    "# Remove axis for a cleaner look\n",
    "plt.axis('off')\n",
    "\n",
    "# Add a title\n",
    "plt.title(\"Treemap of Product Categories\")\n",
    "\n",
    "# Show the plot\n",
    "plt.show()"
   ]
  },
  {
   "cell_type": "code",
   "execution_count": 8,
   "id": "c15fa51e",
   "metadata": {},
   "outputs": [
    {
     "data": {
      "text/plain": [
       "46"
      ]
     },
     "execution_count": 8,
     "metadata": {},
     "output_type": "execute_result"
    }
   ],
   "source": [
    "# L5 is a more granulated classification, it generates more category\n",
    "L5 = df['L5_Name'].dropna().nunique()\n",
    "L5"
   ]
  },
  {
   "cell_type": "code",
   "execution_count": 9,
   "id": "2d0a09c7",
   "metadata": {},
   "outputs": [
    {
     "data": {
      "text/plain": [
       "BEAUTY CARE                  123992\n",
       "DRY GROCERY                  109864\n",
       "OTC HEALTH CARE               84040\n",
       "HARD HOME                     69216\n",
       "GROCERY DSD                   54256\n",
       "PETS                          46032\n",
       "TOYS                          38840\n",
       "SCHOOL HOME OFFICE            37576\n",
       "DO IT YOURSELF                30816\n",
       "SPORTING GOODS                27880\n",
       "FROZEN FOODS                  27808\n",
       "CONSUMABLES                   25920\n",
       "HOME TEXTILES                 23112\n",
       "AUTOMOTIVE                    23000\n",
       "BABY                          22176\n",
       "DAIRY                         18144\n",
       "CONVENIENCE STORE             16608\n",
       "ELECTRONICS                   14824\n",
       "ENTERTAINMENT                 14624\n",
       "GARDEN                        13152\n",
       "SHOES                         10704\n",
       "CARD AND PARTY                 8424\n",
       "PRODUCE                        8240\n",
       "DELI                           7912\n",
       "PACKAGED MEAT                  7128\n",
       "MENS                           6224\n",
       "JEWELRY AND ACCESSORIES        5992\n",
       "KIDS                           5656\n",
       "MEAT                           4264\n",
       "BAKERY                         3360\n",
       "WOMENS                         3192\n",
       "FLORAL                         2792\n",
       "SEAFOOD                        1800\n",
       "SEASONAL                       1568\n",
       "PRESCRIPTIONS                  1312\n",
       "PHOTO FINISHING                 600\n",
       "ALCOHOLIC BEVERAGES             600\n",
       "NON MEIJER CARDS                256\n",
       "MEIJER GIFT CARDS               144\n",
       "NON MEIJER CARDS GAS STN         96\n",
       "KENTUCKY HARVEST                 16\n",
       "MARKING ROOM                      8\n",
       "SYSTEM                            8\n",
       "JANITORIAL                        8\n",
       "SCANNED LOTTERY/PROMO             8\n",
       "MEIJER GIFT CARDS GAS STN         8\n",
       "Name: L5_Name, dtype: int64"
      ]
     },
     "execution_count": 9,
     "metadata": {},
     "output_type": "execute_result"
    }
   ],
   "source": [
    "L5 = df['L5_Name'].dropna().value_counts()\n",
    "L5"
   ]
  },
  {
   "cell_type": "code",
   "execution_count": 10,
   "id": "bfd2ca61",
   "metadata": {},
   "outputs": [
    {
     "data": {
      "text/plain": [
       "165"
      ]
     },
     "execution_count": 10,
     "metadata": {},
     "output_type": "execute_result"
    }
   ],
   "source": [
    "# The rest of the classification is even more granulated, there is no reason to do that...\n",
    "L4 = df['L4_Name'].nunique()\n",
    "L4"
   ]
  },
  {
   "cell_type": "code",
   "execution_count": 11,
   "id": "8ead9670",
   "metadata": {},
   "outputs": [
    {
     "data": {
      "text/plain": [
       "588"
      ]
     },
     "execution_count": 11,
     "metadata": {},
     "output_type": "execute_result"
    }
   ],
   "source": [
    "L3 = df['L3_Name'].nunique()\n",
    "L3"
   ]
  },
  {
   "cell_type": "code",
   "execution_count": 12,
   "id": "71dc59c0",
   "metadata": {},
   "outputs": [
    {
     "data": {
      "text/plain": [
       "3224"
      ]
     },
     "execution_count": 12,
     "metadata": {},
     "output_type": "execute_result"
    }
   ],
   "source": [
    "L2 = df['L2_Name'].nunique()\n",
    "L2"
   ]
  },
  {
   "cell_type": "markdown",
   "id": "3dc46976",
   "metadata": {},
   "source": [
    "## I suggest we just use L6 or L5 to do the categorization, so there will be 11 types/46 types of product"
   ]
  },
  {
   "cell_type": "code",
   "execution_count": 13,
   "id": "bcac8bb8",
   "metadata": {},
   "outputs": [],
   "source": [
    "#############################################################################################################"
   ]
  },
  {
   "cell_type": "markdown",
   "id": "628f8a6d",
   "metadata": {},
   "source": [
    "## Here let's say we are going to use L6 to categorize the product, so there will be 11 types of product, we are going to use the first 8 types of product with front view image, because the 9th~11th ones contains not enough product to take sample from.  And random extract 5 products(With Image Links) from each type of product. So in total there are 40 products from 8 different categories as sample."
   ]
  },
  {
   "cell_type": "code",
   "execution_count": 9,
   "id": "59c05444",
   "metadata": {},
   "outputs": [
    {
     "data": {
      "text/plain": [
       "HARDLINES AND HOME        24774\n",
       "HEALTH AND BEAUTY         23402\n",
       "GROCERY                   18753\n",
       "PETS AND CONSUMABLES      12069\n",
       "FRESH                      2935\n",
       "SOFTLINES                  2565\n",
       "GAS STATION                1631\n",
       "PRESCRIPTIONS               160\n",
       "MISC.                        66\n",
       "SUPPLIES AND PACKAGING        2\n",
       "SYSTEM                        1\n",
       "Name: L6_Name, dtype: int64"
      ]
     },
     "execution_count": 9,
     "metadata": {},
     "output_type": "execute_result"
    }
   ],
   "source": [
    "# Filter the DataFrame to include only rows where 'ItemDocumentValue' is not null\n",
    "# and 'ItemDocumentNote' equals \"upc_img_pth_frnt\" so we use picture only from the Front side\n",
    "df_filtered = df[(df['ItemDocumentValue'].notnull()) & (df['ItemDocumentNote'] == \"upc_img_pth_frnt\")&\n",
    "                 (df['ItemDocumentValue'].str.startswith(\"http://static\"))]\n",
    "\n",
    "# Get the unique categories from L6_Name column\n",
    "unique_categories = df_filtered['L6_Name'].dropna().unique()\n",
    "df_filtered['L6_Name'].value_counts()"
   ]
  },
  {
   "cell_type": "code",
   "execution_count": 10,
   "id": "6d7046a6",
   "metadata": {
    "scrolled": true
   },
   "outputs": [],
   "source": [
    "# Filter the DataFrame to include only rows where 'ItemDocumentValue' is not null,\n",
    "# 'ItemDocumentNote' equals \"upc_img_pth_frnt\", and 'ItemDocumentValue' starts with \"http://static\"\n",
    "df_filtered = df[(df['ItemDocumentValue'].notnull()) & \n",
    "                 (df['ItemDocumentNote'] == \"upc_img_pth_frnt\") & \n",
    "                 (df['ItemDocumentValue'].str.startswith(\"http://static\"))]\n",
    "\n",
    "# Get the unique categories from L6_Name column\n",
    "unique_categories = df_filtered['L6_Name'].dropna().unique()\n",
    "\n",
    "# Consider all 11 categories (or adjust as needed)\n",
    "all_categories = unique_categories[:8]\n",
    "\n",
    "# Sample 5 products from each of these categories\n",
    "sampled_products = pd.DataFrame()\n",
    "for category in all_categories:\n",
    "    sampled_category = df_filtered[df_filtered['L6_Name'] == category].sample(n=10, random_state=1)\n",
    "    sampled_products = pd.concat([sampled_products, sampled_category], ignore_index=True)\n",
    "\n",
    "# Save the sampled products to a CSV file\n",
    "sampled_products.to_csv('sampled_products_10_each_img_front.csv', index=False)"
   ]
  }
 ],
 "metadata": {
  "kernelspec": {
   "display_name": "Python 3 (ipykernel)",
   "language": "python",
   "name": "python3"
  },
  "language_info": {
   "codemirror_mode": {
    "name": "ipython",
    "version": 3
   },
   "file_extension": ".py",
   "mimetype": "text/x-python",
   "name": "python",
   "nbconvert_exporter": "python",
   "pygments_lexer": "ipython3",
   "version": "3.11.4"
  }
 },
 "nbformat": 4,
 "nbformat_minor": 5
}
